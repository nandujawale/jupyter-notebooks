{
 "cells": [
  {
   "cell_type": "code",
   "execution_count": null,
   "metadata": {},
   "outputs": [],
   "source": [
    "from urllib.request import urlopen\n",
    "from bs4 import BeautifulSoup\n",
    "\n",
    "country = \"india\"\n",
    "url = 'https://www.hilton.com/en/locations/' + country + '/'\n",
    "response = urlopen(url)\n",
    "page = response.read()\n",
    "response.close()"
   ]
  },
  {
   "cell_type": "code",
   "execution_count": null,
   "metadata": {},
   "outputs": [],
   "source": [
    "soup = BeautifulSoup(page, \"html.parser\")\n",
    "hotels = soup.select(\"div[class*=hotel-card-dreamstyles__ContentWrap]\")\n",
    "#names = soup.select(\"p[class*=hotel-card-dreamstyles__PropertyName]\")\n",
    "#rates = soup.select(\"p[class*=hotel-card-dreamstyles__LeadRate]\""
   ]
  },
  {
   "cell_type": "code",
   "execution_count": null,
   "metadata": {},
   "outputs": [],
   "source": [
    "for hotel in hotels:\n",
    "    name = hotel.p.text\n",
    "    location = hotel.div.div.text\n",
    "    rate = hotel.div.p.text\n",
    "    print(name)\n",
    "    print(location)\n",
    "    print(rate)\n",
    "    print()"
   ]
  },
  {
   "cell_type": "code",
   "execution_count": null,
   "metadata": {},
   "outputs": [],
   "source": []
  }
 ],
 "metadata": {
  "kernelspec": {
   "display_name": "Python 3",
   "language": "python",
   "name": "python3"
  },
  "language_info": {
   "codemirror_mode": {
    "name": "ipython",
    "version": 3
   },
   "file_extension": ".py",
   "mimetype": "text/x-python",
   "name": "python",
   "nbconvert_exporter": "python",
   "pygments_lexer": "ipython3",
   "version": "3.8.0"
  }
 },
 "nbformat": 4,
 "nbformat_minor": 4
}

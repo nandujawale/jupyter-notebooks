{
 "cells": [
  {
   "cell_type": "code",
   "execution_count": 1,
   "metadata": {},
   "outputs": [],
   "source": [
    "from urllib.request import urlopen\n",
    "from bs4 import BeautifulSoup\n",
    "\n",
    "country = \"india\"\n",
    "url = 'https://www.hilton.com/en/locations/' + country + '/'\n",
    "response = urlopen(url)\n",
    "page = response.read()\n",
    "response.close()"
   ]
  },
  {
   "cell_type": "code",
   "execution_count": 2,
   "metadata": {},
   "outputs": [],
   "source": [
    "soup = BeautifulSoup(page, \"html.parser\")\n",
    "hotels = soup.select(\"div[class*=hotel-card-dreamstyles__ContentWrap]\")\n",
    "#names = soup.select(\"p[class*=hotel-card-dreamstyles__PropertyName]\")\n",
    "#rates = soup.select(\"p[class*=hotel-card-dreamstyles__LeadRate]\""
   ]
  },
  {
   "cell_type": "code",
   "execution_count": 3,
   "metadata": {},
   "outputs": [
    {
     "name": "stdout",
     "output_type": "stream",
     "text": [
      "Hilton Garden Inn Lucknow\n",
      "Lucknow, India\n",
      "₹3,429\n",
      "\n",
      "DoubleTree by Hilton Hotel Agra\n",
      "Agra, India\n",
      "₹3,749\n",
      "\n",
      "Hilton Jaipur\n",
      "Jaipur, India\n",
      "₹4,409\n",
      "\n",
      "DoubleTree by Hilton Jaipur Amer\n",
      "Jaipur, India\n",
      "\n",
      "\n",
      "DoubleTree by Hilton Hotel Gurgaon - New Delhi NCR\n",
      "Gurgaon, India\n",
      "₹5,389\n",
      "\n",
      "Hilton Garden Inn Gurgaon Baani Square\n",
      "Gurgaon, Haryana, India\n",
      "₹4,409\n",
      "\n",
      "Hilton Garden Inn New Delhi/Saket\n",
      "New Delhi, India\n",
      "₹4,899\n",
      "\n",
      "DoubleTree by Hilton Ahmedabad\n",
      "Ahmedabad, India\n",
      "₹5,635\n",
      "\n",
      "Conrad Pune\n",
      "Pune, India\n",
      "₹9,000\n",
      "\n",
      "DoubleTree by Hilton Hotel Pune - Chinchwad\n",
      "Pune, India\n",
      "₹4,542\n",
      "\n",
      "Hilton Shillim Estate Retreat & Spa\n",
      "Taluka Maval, Pune, India\n",
      "₹11,000\n",
      "\n",
      "Hilton Mumbai International Airport\n",
      "Mumbai, India\n",
      "₹8,000\n",
      "\n",
      "DoubleTree by Hilton Goa - Panaji\n",
      "Panaji, India\n",
      "₹5,635\n",
      "\n",
      "DoubleTree by Hilton Hotel Goa - Arpora - Baga\n",
      "Arpora, Goa, India\n",
      "₹6,412\n",
      "\n",
      "Hilton Goa Resort\n",
      "Candolim, India\n",
      "₹10,289\n",
      "\n",
      "Hilton Chennai\n",
      "Chennai, India\n",
      "₹5,390\n",
      "\n",
      "Conrad Bengaluru\n",
      "Bengaluru, India\n",
      "₹8,000\n",
      "\n",
      "Hilton Bangalore Embassy GolfLinks\n",
      "Bangalore, India\n",
      "₹8,500\n",
      "\n",
      "DoubleTree Suites by Hilton Hotel Bangalore\n",
      "Bangalore, India\n",
      "₹8,500\n",
      "\n",
      "Hilton Garden Inn Trivandrum\n",
      "Trivandrum, India\n",
      "₹5,390\n",
      "\n"
     ]
    }
   ],
   "source": [
    "for hotel in hotels:\n",
    "    name = hotel.p.text\n",
    "    location = hotel.div.div.text\n",
    "    rate = hotel.div.p.text\n",
    "    print(name)\n",
    "    print(location)\n",
    "    print(rate)\n",
    "    print()"
   ]
  },
  {
   "cell_type": "code",
   "execution_count": null,
   "metadata": {},
   "outputs": [],
   "source": []
  }
 ],
 "metadata": {
  "kernelspec": {
   "display_name": "Python 3",
   "language": "python",
   "name": "python3"
  },
  "language_info": {
   "codemirror_mode": {
    "name": "ipython",
    "version": 3
   },
   "file_extension": ".py",
   "mimetype": "text/x-python",
   "name": "python",
   "nbconvert_exporter": "python",
   "pygments_lexer": "ipython3",
   "version": "3.8.0"
  }
 },
 "nbformat": 4,
 "nbformat_minor": 4
}
